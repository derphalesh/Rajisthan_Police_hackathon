{
 "cells": [
  {
   "cell_type": "code",
   "execution_count": 1,
   "metadata": {},
   "outputs": [],
   "source": [
    "from pdf2image import convert_from_path"
   ]
  },
  {
   "cell_type": "code",
   "execution_count": 2,
   "metadata": {},
   "outputs": [],
   "source": [
    "images = convert_from_path('test.pdf')"
   ]
  },
  {
   "cell_type": "code",
   "execution_count": 3,
   "metadata": {},
   "outputs": [],
   "source": [
    "!mkdir pages"
   ]
  },
  {
   "cell_type": "code",
   "execution_count": 4,
   "metadata": {},
   "outputs": [],
   "source": [
    "for i in range(len(images)):\n",
    "  images[i].save('pages/page'+str(i)+'.jpg','JPEG')"
   ]
  },
  {
   "cell_type": "code",
   "execution_count": 5,
   "metadata": {},
   "outputs": [],
   "source": [
    "import ultralytics"
   ]
  },
  {
   "cell_type": "code",
   "execution_count": 9,
   "metadata": {},
   "outputs": [
    {
     "name": "stdout",
     "output_type": "stream",
     "text": [
      "\n",
      "0: 640x512 1 Table, 122.0ms\n",
      "Speed: 42.0ms preprocess, 122.0ms inference, 3.0ms postprocess per image at shape (1, 3, 640, 512)\n",
      "tensor([[ 138.9527,  200.2440, 1543.9772,  547.2715]])\n"
     ]
    }
   ],
   "source": [
    "import cv2\n",
    "from ultralytics import YOLO\n",
    "\n",
    "try:\n",
    "    # Load the image\n",
    "    image = cv2.imread(\"pages\\page0.jpg\")\n",
    "    if image is None:\n",
    "        raise Exception(\"Error: Unable to read the image.\")\n",
    "    image = image[..., ::-1]\n",
    "\n",
    "    # Load the YOLO model\n",
    "    model = YOLO('best.pt')\n",
    "\n",
    "    # Perform prediction and get results\n",
    "    results = model.predict(source=image, save=False , conf=0.5 )\n",
    "\n",
    "    # Access the bounding box coordinates for each detected table\n",
    "    if len(results) > 0:\n",
    "        first_result = results[0]  # Assuming the first item in the list contains the results\n",
    "        bounding_boxes = first_result.boxes.xyxy\n",
    "        print(bounding_boxes)\n",
    "    else:\n",
    "        print(\"No tables detected.\")\n",
    "\n",
    "except Exception as e:\n",
    "    print(str(e))"
   ]
  },
  {
   "cell_type": "code",
   "execution_count": 10,
   "metadata": {},
   "outputs": [],
   "source": [
    "for l in bounding_boxes:\n",
    "  x_1 = int(l[0])\n",
    "  y_1 = int(l[1])\n",
    "  x_2 = int(l[2])\n",
    "  y_2 = int(l[3])"
   ]
  },
  {
   "cell_type": "code",
   "execution_count": 11,
   "metadata": {},
   "outputs": [],
   "source": [
    "im = cv2.imread('pages\\page0.jpg')"
   ]
  },
  {
   "cell_type": "code",
   "execution_count": 12,
   "metadata": {},
   "outputs": [
    {
     "data": {
      "text/plain": [
       "True"
      ]
     },
     "execution_count": 12,
     "metadata": {},
     "output_type": "execute_result"
    }
   ],
   "source": [
    "cv2.imwrite('ext_im.jpg',im[y_1:y_2,x_1:x_2])"
   ]
  },
  {
   "cell_type": "code",
   "execution_count": 13,
   "metadata": {},
   "outputs": [],
   "source": [
    "from paddleocr import PaddleOCR"
   ]
  },
  {
   "cell_type": "code",
   "execution_count": 14,
   "metadata": {},
   "outputs": [
    {
     "name": "stdout",
     "output_type": "stream",
     "text": [
      "download https://paddleocr.bj.bcebos.com/PP-OCRv3/english/en_PP-OCRv3_det_infer.tar to C:\\Users\\ASUS/.paddleocr/whl\\det\\en\\en_PP-OCRv3_det_infer\\en_PP-OCRv3_det_infer.tar\n"
     ]
    },
    {
     "name": "stderr",
     "output_type": "stream",
     "text": [
      "100%|██████████| 4.00M/4.00M [00:03<00:00, 1.12MiB/s]\n"
     ]
    },
    {
     "name": "stdout",
     "output_type": "stream",
     "text": [
      "download https://paddleocr.bj.bcebos.com/PP-OCRv4/english/en_PP-OCRv4_rec_infer.tar to C:\\Users\\ASUS/.paddleocr/whl\\rec\\en\\en_PP-OCRv4_rec_infer\\en_PP-OCRv4_rec_infer.tar\n"
     ]
    },
    {
     "name": "stderr",
     "output_type": "stream",
     "text": [
      "100%|██████████| 10.2M/10.2M [00:13<00:00, 751kiB/s] \n"
     ]
    },
    {
     "name": "stdout",
     "output_type": "stream",
     "text": [
      "download https://paddleocr.bj.bcebos.com/dygraph_v2.0/ch/ch_ppocr_mobile_v2.0_cls_infer.tar to C:\\Users\\ASUS/.paddleocr/whl\\cls\\ch_ppocr_mobile_v2.0_cls_infer\\ch_ppocr_mobile_v2.0_cls_infer.tar\n"
     ]
    },
    {
     "name": "stderr",
     "output_type": "stream",
     "text": [
      "100%|██████████| 2.19M/2.19M [00:04<00:00, 497kiB/s] "
     ]
    },
    {
     "name": "stdout",
     "output_type": "stream",
     "text": [
      "[2024/01/18 02:29:37] ppocr DEBUG: Namespace(help='==SUPPRESS==', use_gpu=False, use_xpu=False, use_npu=False, ir_optim=True, use_tensorrt=False, min_subgraph_size=15, precision='fp32', gpu_mem=500, gpu_id=0, image_dir=None, page_num=0, det_algorithm='DB', det_model_dir='C:\\\\Users\\\\ASUS/.paddleocr/whl\\\\det\\\\en\\\\en_PP-OCRv3_det_infer', det_limit_side_len=960, det_limit_type='max', det_box_type='quad', det_db_thresh=0.3, det_db_box_thresh=0.6, det_db_unclip_ratio=1.5, max_batch_size=10, use_dilation=False, det_db_score_mode='fast', det_east_score_thresh=0.8, det_east_cover_thresh=0.1, det_east_nms_thresh=0.2, det_sast_score_thresh=0.5, det_sast_nms_thresh=0.2, det_pse_thresh=0, det_pse_box_thresh=0.85, det_pse_min_area=16, det_pse_scale=1, scales=[8, 16, 32], alpha=1.0, beta=1.0, fourier_degree=5, rec_algorithm='SVTR_LCNet', rec_model_dir='C:\\\\Users\\\\ASUS/.paddleocr/whl\\\\rec\\\\en\\\\en_PP-OCRv4_rec_infer', rec_image_inverse=True, rec_image_shape='3, 48, 320', rec_batch_num=6, max_text_length=25, rec_char_dict_path='d:\\\\rajisthan hack\\\\Kavach_2023\\\\myenvp\\\\lib\\\\site-packages\\\\paddleocr\\\\ppocr\\\\utils\\\\en_dict.txt', use_space_char=True, vis_font_path='./doc/fonts/simfang.ttf', drop_score=0.5, e2e_algorithm='PGNet', e2e_model_dir=None, e2e_limit_side_len=768, e2e_limit_type='max', e2e_pgnet_score_thresh=0.5, e2e_char_dict_path='./ppocr/utils/ic15_dict.txt', e2e_pgnet_valid_set='totaltext', e2e_pgnet_mode='fast', use_angle_cls=False, cls_model_dir='C:\\\\Users\\\\ASUS/.paddleocr/whl\\\\cls\\\\ch_ppocr_mobile_v2.0_cls_infer', cls_image_shape='3, 48, 192', label_list=['0', '180'], cls_batch_num=6, cls_thresh=0.9, enable_mkldnn=False, cpu_threads=10, use_pdserving=False, warmup=False, sr_model_dir=None, sr_image_shape='3, 32, 128', sr_batch_num=1, draw_img_save_dir='./inference_results', save_crop_res=False, crop_res_save_dir='./output', use_mp=False, total_process_num=1, process_id=0, benchmark=False, save_log_path='./log_output/', show_log=True, use_onnx=False, output='./output', table_max_len=488, table_algorithm='TableAttn', table_model_dir=None, merge_no_span_structure=True, table_char_dict_path=None, layout_model_dir=None, layout_dict_path=None, layout_score_threshold=0.5, layout_nms_threshold=0.5, kie_algorithm='LayoutXLM', ser_model_dir=None, re_model_dir=None, use_visual_backbone=True, ser_dict_path='../train_data/XFUND/class_list_xfun.txt', ocr_order_method=None, mode='structure', image_orientation=False, layout=True, table=True, ocr=True, recovery=False, use_pdf2docx_api=False, invert=False, binarize=False, alphacolor=(255, 255, 255), lang='en', det=True, rec=True, type='ocr', ocr_version='PP-OCRv4', structure_version='PP-StructureV2')\n"
     ]
    },
    {
     "name": "stderr",
     "output_type": "stream",
     "text": [
      "\n"
     ]
    },
    {
     "name": "stdout",
     "output_type": "stream",
     "text": [
      "[2024/01/18 02:29:39] ppocr WARNING: Since the angle classifier is not initialized, it will not be used during the forward process\n",
      "[2024/01/18 02:29:40] ppocr DEBUG: dt_boxes num : 56, elapsed : 0.6954443454742432\n",
      "[2024/01/18 02:30:06] ppocr DEBUG: rec_res num  : 56, elapsed : 26.1377112865448\n",
      "[[[[[57.0, 8.0], [126.0, 8.0], [126.0, 36.0], [57.0, 36.0]], ('DATE', 0.9985253214836121)], [[[186.0, 11.0], [395.0, 11.0], [395.0, 33.0], [186.0, 33.0]], ('TRANSACTIONID', 0.9969203472137451)], [[[559.0, 8.0], [642.0, 8.0], [642.0, 36.0], [559.0, 36.0]], ('MODE', 0.998503565788269)], [[[803.0, 9.0], [978.0, 9.0], [978.0, 31.0], [803.0, 31.0]], ('ACCOUNTNO', 0.9772573113441467)], [[[1010.0, 8.0], [1109.0, 8.0], [1109.0, 36.0], [1010.0, 36.0]], ('STATUS', 0.9976963400840759)], [[[1128.0, 11.0], [1250.0, 11.0], [1250.0, 33.0], [1128.0, 33.0]], ('AMOUNT', 0.996489942073822)], [[[1278.0, 11.0], [1390.0, 11.0], [1390.0, 33.0], [1278.0, 33.0]], ('BALANCE', 0.9975854158401489)], [[[23.0, 48.0], [158.0, 48.0], [158.0, 76.0], [23.0, 76.0]], ('7/27/2023', 0.9939141869544983)], [[[258.0, 46.0], [323.0, 46.0], [323.0, 76.0], [258.0, 76.0]], ('1005', 0.9994618892669678)], [[[438.0, 50.0], [760.0, 50.0], [760.0, 71.0], [438.0, 71.0]], ('UPI(Transfer from ARYAN)', 0.9505012631416321)], [[[814.0, 50.0], [967.0, 50.0], [967.0, 71.0], [814.0, 71.0]], ('7940418579', 0.9983139038085938)], [[[1042.0, 46.0], [1077.0, 46.0], [1077.0, 79.0], [1042.0, 79.0]], ('Cr', 0.997066855430603)], [[[1149.0, 48.0], [1231.0, 48.0], [1231.0, 76.0], [1149.0, 76.0]], ('80000', 0.9990132451057434)], [[[1294.0, 48.0], [1374.0, 48.0], [1374.0, 76.0], [1294.0, 76.0]], ('80000', 0.9988411068916321)], [[[23.0, 88.0], [158.0, 88.0], [158.0, 116.0], [23.0, 116.0]], ('7/27/2023', 0.9939141869544983)], [[[258.0, 87.0], [325.0, 87.0], [325.0, 116.0], [258.0, 116.0]], ('1006', 0.9995640516281128)], [[[436.0, 90.0], [764.0, 90.0], [764.0, 116.0], [436.0, 116.0]], ('UPI(Transfer to ABHISHEK)', 0.9603186249732971)], [[[814.0, 88.0], [970.0, 88.0], [970.0, 115.0], [814.0, 115.0]], ('2497653801', 0.9994646906852722)], [[[1041.0, 87.0], [1079.0, 87.0], [1079.0, 118.0], [1041.0, 118.0]], ('Dr', 0.9996558427810669)], [[[1149.0, 88.0], [1231.0, 88.0], [1231.0, 116.0], [1149.0, 116.0]], ('33000', 0.9997061491012573)], [[[1292.0, 88.0], [1374.0, 88.0], [1374.0, 116.0], [1292.0, 116.0]], ('47000', 0.9995409250259399)], [[[20.0, 127.0], [159.0, 124.0], [160.0, 156.0], [21.0, 160.0]], ('7/27/2023', 0.9970314502716064)], [[[258.0, 129.0], [325.0, 129.0], [325.0, 158.0], [258.0, 158.0]], ('1007', 0.9996891617774963)], [[[460.0, 129.0], [736.0, 129.0], [736.0, 155.0], [460.0, 155.0]], ('UPI(Transfer to TEJAS)', 0.9305779933929443)], [[[814.0, 130.0], [970.0, 130.0], [970.0, 156.0], [814.0, 156.0]], ('2173014683', 0.9986026883125305)], [[[1042.0, 129.0], [1077.0, 129.0], [1077.0, 158.0], [1042.0, 158.0]], ('Dr', 0.9989831447601318)], [[[1156.0, 129.0], [1225.0, 129.0], [1225.0, 158.0], [1156.0, 158.0]], ('5000', 0.9995179772377014)], [[[1292.0, 129.0], [1374.0, 129.0], [1374.0, 156.0], [1292.0, 156.0]], ('42000', 0.9993192553520203)], [[[25.0, 169.0], [158.0, 169.0], [158.0, 197.0], [25.0, 197.0]], ('7/27/2023', 0.9908669590950012)], [[[258.0, 169.0], [325.0, 169.0], [325.0, 197.0], [258.0, 197.0]], ('1008', 0.9995880126953125)], [[[454.0, 170.0], [743.0, 170.0], [743.0, 197.0], [454.0, 197.0]], ('UPI(Transfer to RAHUL)', 0.9362404346466064)], [[[815.0, 172.0], [970.0, 172.0], [970.0, 194.0], [815.0, 194.0]], ('3665537576', 0.9990013241767883)], [[[1041.0, 167.0], [1079.0, 167.0], [1079.0, 198.0], [1041.0, 198.0]], ('Dr', 0.9991298317909241)], [[[1150.0, 169.0], [1231.0, 169.0], [1231.0, 197.0], [1150.0, 197.0]], ('16000', 0.9989718198776245)], [[[1292.0, 169.0], [1374.0, 169.0], [1374.0, 197.0], [1292.0, 197.0]], ('26000', 0.9987586736679077)], [[[23.0, 209.0], [158.0, 209.0], [158.0, 237.0], [23.0, 237.0]], ('7/27/2023', 0.9920507073402405)], [[[258.0, 208.0], [325.0, 208.0], [325.0, 237.0], [258.0, 237.0]], ('1009', 0.9996201992034912)], [[[427.0, 209.0], [770.0, 209.0], [770.0, 235.0], [427.0, 235.0]], ('UPI(Transfer to RAJKUMAR)', 0.9314010739326477)], [[[814.0, 212.0], [969.0, 212.0], [969.0, 234.0], [814.0, 234.0]], ('2842027745', 0.9981926679611206)], [[[1041.0, 208.0], [1079.0, 208.0], [1079.0, 239.0], [1041.0, 239.0]], ('Dr', 0.9990436434745789)], [[[1158.0, 209.0], [1225.0, 209.0], [1225.0, 237.0], [1158.0, 237.0]], ('6700', 0.9991090297698975)], [[[1292.0, 209.0], [1374.0, 209.0], [1374.0, 237.0], [1292.0, 237.0]], ('19300', 0.999714195728302)], [[[23.0, 249.0], [158.0, 249.0], [158.0, 277.0], [23.0, 277.0]], ('7/27/2023', 0.9935498833656311)], [[[258.0, 249.0], [325.0, 249.0], [325.0, 279.0], [258.0, 279.0]], ('1010', 0.9990073442459106)], [[[438.0, 251.0], [761.0, 251.0], [761.0, 277.0], [438.0, 277.0]], ('UPI(Transfer to MUKUND)', 0.9366529583930969)], [[[814.0, 251.0], [970.0, 251.0], [970.0, 277.0], [814.0, 277.0]], ('7542630333', 0.9986525774002075)], [[[1041.0, 248.0], [1077.0, 248.0], [1077.0, 280.0], [1041.0, 280.0]], ('Dr', 0.9984784126281738)], [[[1156.0, 249.0], [1225.0, 249.0], [1225.0, 277.0], [1156.0, 277.0]], ('5300', 0.9993503093719482)], [[[1292.0, 249.0], [1374.0, 249.0], [1374.0, 277.0], [1292.0, 277.0]], ('14000', 0.9993292093276978)], [[[23.0, 290.0], [158.0, 290.0], [158.0, 318.0], [23.0, 318.0]], ('7/27/2023', 0.9912545680999756)], [[[258.0, 290.0], [323.0, 290.0], [323.0, 319.0], [258.0, 319.0]], ('1011', 0.9990742206573486)], [[[468.0, 291.0], [732.0, 291.0], [732.0, 318.0], [468.0, 318.0]], ('UPI(Transfer to ANIL)', 0.9509649872779846)], [[[812.0, 291.0], [970.0, 291.0], [970.0, 318.0], [812.0, 318.0]], ('1734168306', 0.9996940493583679)], [[[1042.0, 286.0], [1080.0, 291.0], [1076.0, 322.0], [1038.0, 317.0]], ('Dr', 0.9988199472427368)], [[[1150.0, 290.0], [1232.0, 290.0], [1232.0, 318.0], [1150.0, 318.0]], ('14000', 0.9994426965713501)], [[[1323.0, 291.0], [1344.0, 291.0], [1344.0, 318.0], [1323.0, 318.0]], ('0', 0.9261232614517212)]]]\n"
     ]
    }
   ],
   "source": [
    "ocr = PaddleOCR(lang = 'en')\n",
    "image_path = 'ext_im.jpg'\n",
    "image_cv = cv2.imread(image_path)\n",
    "image_height = image_cv.shape[0]\n",
    "image_width = image_cv.shape[1]\n",
    "output = ocr.ocr(image_path)\n",
    "print(output)\n"
   ]
  },
  {
   "cell_type": "code",
   "execution_count": 15,
   "metadata": {},
   "outputs": [],
   "source": [
    "boxes = [line[0] for sublist in output for line in sublist]\n",
    "texts = [line[1][0] for sublist in output for line in sublist]\n",
    "\n",
    "# If you want probabilities as well, you can do this:\n",
    "probabilities = [line[1][1] for sublist in output for line in sublist]"
   ]
  },
  {
   "cell_type": "code",
   "execution_count": 16,
   "metadata": {},
   "outputs": [
    {
     "name": "stdout",
     "output_type": "stream",
     "text": [
      "[[[57.0, 8.0], [126.0, 8.0], [126.0, 36.0], [57.0, 36.0]], [[186.0, 11.0], [395.0, 11.0], [395.0, 33.0], [186.0, 33.0]], [[559.0, 8.0], [642.0, 8.0], [642.0, 36.0], [559.0, 36.0]], [[803.0, 9.0], [978.0, 9.0], [978.0, 31.0], [803.0, 31.0]], [[1010.0, 8.0], [1109.0, 8.0], [1109.0, 36.0], [1010.0, 36.0]], [[1128.0, 11.0], [1250.0, 11.0], [1250.0, 33.0], [1128.0, 33.0]], [[1278.0, 11.0], [1390.0, 11.0], [1390.0, 33.0], [1278.0, 33.0]], [[23.0, 48.0], [158.0, 48.0], [158.0, 76.0], [23.0, 76.0]], [[258.0, 46.0], [323.0, 46.0], [323.0, 76.0], [258.0, 76.0]], [[438.0, 50.0], [760.0, 50.0], [760.0, 71.0], [438.0, 71.0]], [[814.0, 50.0], [967.0, 50.0], [967.0, 71.0], [814.0, 71.0]], [[1042.0, 46.0], [1077.0, 46.0], [1077.0, 79.0], [1042.0, 79.0]], [[1149.0, 48.0], [1231.0, 48.0], [1231.0, 76.0], [1149.0, 76.0]], [[1294.0, 48.0], [1374.0, 48.0], [1374.0, 76.0], [1294.0, 76.0]], [[23.0, 88.0], [158.0, 88.0], [158.0, 116.0], [23.0, 116.0]], [[258.0, 87.0], [325.0, 87.0], [325.0, 116.0], [258.0, 116.0]], [[436.0, 90.0], [764.0, 90.0], [764.0, 116.0], [436.0, 116.0]], [[814.0, 88.0], [970.0, 88.0], [970.0, 115.0], [814.0, 115.0]], [[1041.0, 87.0], [1079.0, 87.0], [1079.0, 118.0], [1041.0, 118.0]], [[1149.0, 88.0], [1231.0, 88.0], [1231.0, 116.0], [1149.0, 116.0]], [[1292.0, 88.0], [1374.0, 88.0], [1374.0, 116.0], [1292.0, 116.0]], [[20.0, 127.0], [159.0, 124.0], [160.0, 156.0], [21.0, 160.0]], [[258.0, 129.0], [325.0, 129.0], [325.0, 158.0], [258.0, 158.0]], [[460.0, 129.0], [736.0, 129.0], [736.0, 155.0], [460.0, 155.0]], [[814.0, 130.0], [970.0, 130.0], [970.0, 156.0], [814.0, 156.0]], [[1042.0, 129.0], [1077.0, 129.0], [1077.0, 158.0], [1042.0, 158.0]], [[1156.0, 129.0], [1225.0, 129.0], [1225.0, 158.0], [1156.0, 158.0]], [[1292.0, 129.0], [1374.0, 129.0], [1374.0, 156.0], [1292.0, 156.0]], [[25.0, 169.0], [158.0, 169.0], [158.0, 197.0], [25.0, 197.0]], [[258.0, 169.0], [325.0, 169.0], [325.0, 197.0], [258.0, 197.0]], [[454.0, 170.0], [743.0, 170.0], [743.0, 197.0], [454.0, 197.0]], [[815.0, 172.0], [970.0, 172.0], [970.0, 194.0], [815.0, 194.0]], [[1041.0, 167.0], [1079.0, 167.0], [1079.0, 198.0], [1041.0, 198.0]], [[1150.0, 169.0], [1231.0, 169.0], [1231.0, 197.0], [1150.0, 197.0]], [[1292.0, 169.0], [1374.0, 169.0], [1374.0, 197.0], [1292.0, 197.0]], [[23.0, 209.0], [158.0, 209.0], [158.0, 237.0], [23.0, 237.0]], [[258.0, 208.0], [325.0, 208.0], [325.0, 237.0], [258.0, 237.0]], [[427.0, 209.0], [770.0, 209.0], [770.0, 235.0], [427.0, 235.0]], [[814.0, 212.0], [969.0, 212.0], [969.0, 234.0], [814.0, 234.0]], [[1041.0, 208.0], [1079.0, 208.0], [1079.0, 239.0], [1041.0, 239.0]], [[1158.0, 209.0], [1225.0, 209.0], [1225.0, 237.0], [1158.0, 237.0]], [[1292.0, 209.0], [1374.0, 209.0], [1374.0, 237.0], [1292.0, 237.0]], [[23.0, 249.0], [158.0, 249.0], [158.0, 277.0], [23.0, 277.0]], [[258.0, 249.0], [325.0, 249.0], [325.0, 279.0], [258.0, 279.0]], [[438.0, 251.0], [761.0, 251.0], [761.0, 277.0], [438.0, 277.0]], [[814.0, 251.0], [970.0, 251.0], [970.0, 277.0], [814.0, 277.0]], [[1041.0, 248.0], [1077.0, 248.0], [1077.0, 280.0], [1041.0, 280.0]], [[1156.0, 249.0], [1225.0, 249.0], [1225.0, 277.0], [1156.0, 277.0]], [[1292.0, 249.0], [1374.0, 249.0], [1374.0, 277.0], [1292.0, 277.0]], [[23.0, 290.0], [158.0, 290.0], [158.0, 318.0], [23.0, 318.0]], [[258.0, 290.0], [323.0, 290.0], [323.0, 319.0], [258.0, 319.0]], [[468.0, 291.0], [732.0, 291.0], [732.0, 318.0], [468.0, 318.0]], [[812.0, 291.0], [970.0, 291.0], [970.0, 318.0], [812.0, 318.0]], [[1042.0, 286.0], [1080.0, 291.0], [1076.0, 322.0], [1038.0, 317.0]], [[1150.0, 290.0], [1232.0, 290.0], [1232.0, 318.0], [1150.0, 318.0]], [[1323.0, 291.0], [1344.0, 291.0], [1344.0, 318.0], [1323.0, 318.0]]]\n"
     ]
    }
   ],
   "source": [
    "print(boxes)"
   ]
  },
  {
   "cell_type": "code",
   "execution_count": 17,
   "metadata": {},
   "outputs": [],
   "source": [
    "\n",
    "image_boxes = image_cv.copy()\n"
   ]
  },
  {
   "cell_type": "code",
   "execution_count": 18,
   "metadata": {},
   "outputs": [
    {
     "data": {
      "text/plain": [
       "True"
      ]
     },
     "execution_count": 18,
     "metadata": {},
     "output_type": "execute_result"
    }
   ],
   "source": [
    "for box,text in zip(boxes,texts):\n",
    "    cv2.rectangle(image_boxes, (int(box[0][0]),int(box[0][1])), (int(box[2][0]),int(box[2][1])) , (0,0,255),1)\n",
    "    cv2.putText(image_boxes , text,(int(box[0][0]), int(box[0][1])),cv2.FONT_HERSHEY_SIMPLEX,1,(222,0,0),1)\n",
    "cv2.imwrite('detections.jpg' , image_boxes)"
   ]
  },
  {
   "cell_type": "code",
   "execution_count": 19,
   "metadata": {},
   "outputs": [],
   "source": [
    "im2 = image_cv.copy()"
   ]
  },
  {
   "cell_type": "code",
   "execution_count": 20,
   "metadata": {},
   "outputs": [],
   "source": [
    "horiz_boxes = []\n",
    "vert_boxes = []\n",
    " \n",
    "for box in boxes:\n",
    "    x_h, x_v = 0, int(box[0][0])\n",
    "    y_h, y_v = int(box[0][1]), 0\n",
    "\n",
    "    width_h, width_v = image_width, int(box[2][0]) - int(box[0][0])\n",
    "    height_h, height_v = int(box[2][1]) - int(box[0][1]), image_height\n",
    "    horiz_boxes.append([x_h, y_h, x_h + width_h, y_h + height_h])\n",
    "    vert_boxes.append([x_v, y_v, x_v + width_v, y_v + height_v])\n",
    "\n",
    "    cv2.rectangle(im2,(x_h, y_h),(x_h + width_h ,y_h+height_h),(255,255,0),1)\n",
    "    cv2.rectangle(im2,(x_v, y_v),(x_v + width_v ,y_v+height_v),(0,255,0),1)\n",
    "\n"
   ]
  },
  {
   "cell_type": "code",
   "execution_count": 21,
   "metadata": {},
   "outputs": [
    {
     "data": {
      "text/plain": [
       "True"
      ]
     },
     "execution_count": 21,
     "metadata": {},
     "output_type": "execute_result"
    }
   ],
   "source": [
    "cv2.imwrite('horiz_vert.jpg',im2)"
   ]
  },
  {
   "cell_type": "code",
   "execution_count": 22,
   "metadata": {},
   "outputs": [
    {
     "name": "stderr",
     "output_type": "stream",
     "text": [
      "[2024-01-18 02:30:37,620] [ WARNING] module_wrapper.py:149 - From d:\\rajisthan hack\\Kavach_2023\\myenvp\\lib\\site-packages\\keras\\src\\losses.py:2976: The name tf.losses.sparse_softmax_cross_entropy is deprecated. Please use tf.compat.v1.losses.sparse_softmax_cross_entropy instead.\n",
      "\n"
     ]
    }
   ],
   "source": [
    "import tensorflow as tf"
   ]
  },
  {
   "cell_type": "code",
   "execution_count": 23,
   "metadata": {},
   "outputs": [],
   "source": [
    "import numpy as np"
   ]
  },
  {
   "cell_type": "code",
   "execution_count": 24,
   "metadata": {},
   "outputs": [],
   "source": [
    "horiz_out = tf.image.non_max_suppression(\n",
    "    horiz_boxes,\n",
    "    probabilities,\n",
    "    max_output_size= 1000,\n",
    "    iou_threshold= 0.1,\n",
    "    score_threshold = float('-inf'),\n",
    "    name = None\n",
    ")"
   ]
  },
  {
   "cell_type": "code",
   "execution_count": 25,
   "metadata": {},
   "outputs": [
    {
     "name": "stdout",
     "output_type": "stream",
     "text": [
      "[ 0  8 19 22 29 41 47 52]\n"
     ]
    }
   ],
   "source": [
    "horiz_lines = np.sort(np.array(horiz_out))\n",
    "print(horiz_lines)"
   ]
  },
  {
   "cell_type": "code",
   "execution_count": 26,
   "metadata": {},
   "outputs": [],
   "source": [
    "im_nms = image_cv.copy()"
   ]
  },
  {
   "cell_type": "code",
   "execution_count": 27,
   "metadata": {},
   "outputs": [],
   "source": [
    "for val in horiz_lines:\n",
    "    cv2.rectangle(im_nms, (int(horiz_boxes[val][0]),int(horiz_boxes[val][1])), (int(horiz_boxes[val][2]),int(horiz_boxes[val][3])) , (0,0,255),1)\n",
    "    "
   ]
  },
  {
   "cell_type": "code",
   "execution_count": 28,
   "metadata": {},
   "outputs": [
    {
     "data": {
      "text/plain": [
       "True"
      ]
     },
     "execution_count": 28,
     "metadata": {},
     "output_type": "execute_result"
    }
   ],
   "source": [
    "cv2.imwrite('im_nms.jpg',im_nms)"
   ]
  },
  {
   "cell_type": "code",
   "execution_count": 29,
   "metadata": {},
   "outputs": [],
   "source": [
    "vert_out = tf.image.non_max_suppression(\n",
    "    vert_boxes,\n",
    "    probabilities,\n",
    "    max_output_size= 1000,\n",
    "    iou_threshold= 0.1,\n",
    "    score_threshold = float('-inf'),\n",
    "    name = None\n",
    ")"
   ]
  },
  {
   "cell_type": "code",
   "execution_count": 30,
   "metadata": {},
   "outputs": [
    {
     "name": "stdout",
     "output_type": "stream",
     "text": [
      "tf.Tensor([41 19 52 22 18  0  2], shape=(7,), dtype=int32)\n"
     ]
    }
   ],
   "source": [
    "print(vert_out)"
   ]
  },
  {
   "cell_type": "code",
   "execution_count": 31,
   "metadata": {},
   "outputs": [
    {
     "name": "stdout",
     "output_type": "stream",
     "text": [
      "[ 0  2 18 19 22 41 52]\n"
     ]
    }
   ],
   "source": [
    "vert_lines = np.sort(np.array(vert_out))\n",
    "print(vert_lines)"
   ]
  },
  {
   "cell_type": "code",
   "execution_count": 32,
   "metadata": {},
   "outputs": [],
   "source": [
    "for val in vert_lines:\n",
    "    cv2.rectangle(im_nms, (int(vert_boxes[val][0]),int(vert_boxes[val][1])), (int(vert_boxes[val][2]),int(vert_boxes[val][3])) , (255,0,0),1)\n",
    "    "
   ]
  },
  {
   "cell_type": "code",
   "execution_count": 33,
   "metadata": {},
   "outputs": [
    {
     "data": {
      "text/plain": [
       "True"
      ]
     },
     "execution_count": 33,
     "metadata": {},
     "output_type": "execute_result"
    }
   ],
   "source": [
    "cv2.imwrite('im_nms.jpg',im_nms)"
   ]
  },
  {
   "cell_type": "code",
   "execution_count": 34,
   "metadata": {},
   "outputs": [
    {
     "name": "stdout",
     "output_type": "stream",
     "text": [
      "(8, 7)\n",
      "[['', '', '', '', '', '', ''], ['', '', '', '', '', '', ''], ['', '', '', '', '', '', ''], ['', '', '', '', '', '', ''], ['', '', '', '', '', '', ''], ['', '', '', '', '', '', ''], ['', '', '', '', '', '', ''], ['', '', '', '', '', '', '']]\n"
     ]
    }
   ],
   "source": [
    "out_array = [[\"\" for i in range(len(vert_lines))] for j in range(len(horiz_lines))]\n",
    "print(np.array(out_array).shape)\n",
    "print(out_array)"
   ]
  },
  {
   "cell_type": "code",
   "execution_count": 35,
   "metadata": {},
   "outputs": [
    {
     "name": "stdout",
     "output_type": "stream",
     "text": [
      "[57, 0, 126, 347]\n",
      "[559, 0, 642, 347]\n",
      "[1041, 0, 1079, 347]\n",
      "[1149, 0, 1231, 347]\n",
      "[258, 0, 325, 347]\n",
      "[1292, 0, 1374, 347]\n",
      "[812, 0, 970, 347]\n"
     ]
    }
   ],
   "source": [
    "unordered_boxes = []\n",
    "for i in vert_lines:\n",
    "    print(vert_boxes[i])\n",
    "    unordered_boxes.append(vert_boxes[i][0])"
   ]
  },
  {
   "cell_type": "code",
   "execution_count": 36,
   "metadata": {},
   "outputs": [
    {
     "name": "stdout",
     "output_type": "stream",
     "text": [
      "[0 4 1 6 2 3 5]\n"
     ]
    }
   ],
   "source": [
    "ordered_boxes = np.argsort(unordered_boxes)\n",
    "print(ordered_boxes)"
   ]
  },
  {
   "cell_type": "code",
   "execution_count": 37,
   "metadata": {},
   "outputs": [],
   "source": [
    "def intersection(box_1 , box_2):\n",
    "    return [box_2[0], box_1[1] , box_2[2] , box_1[3] ]"
   ]
  },
  {
   "cell_type": "code",
   "execution_count": 38,
   "metadata": {},
   "outputs": [],
   "source": [
    "def iou(box_1 , box_2 ,):\n",
    "  x_1 = max(box_1[0],box_2[0])\n",
    "  y_1 = max(box_1[1],box_2[1])\n",
    "  x_2 = min(box_1[2],box_2[2])\n",
    "  y_2 = min(box_1[3],box_2[3])\n",
    "  \n",
    "  inter = abs(max((x_2 - x_1, 0)) * max ((y_2 - y_1), 0))\n",
    "  if inter == 0 :\n",
    "    return 0\n",
    "  box_1_area = abs((box_1[2] - box_1[0]) * (box_1[3] - box_1[1]))\n",
    "  box_2_area = abs((box_2[2] - box_2[0]) * (box_2[3] - box_2[1]))\n",
    "  return inter / float (box_1_area + box_2_area - inter)"
   ]
  },
  {
   "cell_type": "code",
   "execution_count": 39,
   "metadata": {},
   "outputs": [
    {
     "name": "stdout",
     "output_type": "stream",
     "text": [
      "[57, 8, 126, 36]\n",
      "[258, 8, 325, 36]\n",
      "[559, 8, 642, 36]\n",
      "[812, 8, 970, 36]\n",
      "[1041, 8, 1079, 36]\n",
      "[1149, 8, 1231, 36]\n",
      "[1292, 8, 1374, 36]\n",
      "[57, 46, 126, 76]\n",
      "[258, 46, 325, 76]\n",
      "[559, 46, 642, 76]\n",
      "[812, 46, 970, 76]\n",
      "[1041, 46, 1079, 76]\n",
      "[1149, 46, 1231, 76]\n",
      "[1292, 46, 1374, 76]\n",
      "[57, 88, 126, 116]\n",
      "[258, 88, 325, 116]\n",
      "[559, 88, 642, 116]\n",
      "[812, 88, 970, 116]\n",
      "[1041, 88, 1079, 116]\n",
      "[1149, 88, 1231, 116]\n",
      "[1292, 88, 1374, 116]\n",
      "[57, 129, 126, 158]\n",
      "[258, 129, 325, 158]\n",
      "[559, 129, 642, 158]\n",
      "[812, 129, 970, 158]\n",
      "[1041, 129, 1079, 158]\n",
      "[1149, 129, 1231, 158]\n",
      "[1292, 129, 1374, 158]\n",
      "[57, 169, 126, 197]\n",
      "[258, 169, 325, 197]\n",
      "[559, 169, 642, 197]\n",
      "[812, 169, 970, 197]\n",
      "[1041, 169, 1079, 197]\n",
      "[1149, 169, 1231, 197]\n",
      "[1292, 169, 1374, 197]\n",
      "[57, 209, 126, 237]\n",
      "[258, 209, 325, 237]\n",
      "[559, 209, 642, 237]\n",
      "[812, 209, 970, 237]\n",
      "[1041, 209, 1079, 237]\n",
      "[1149, 209, 1231, 237]\n",
      "[1292, 209, 1374, 237]\n",
      "[57, 249, 126, 277]\n",
      "[258, 249, 325, 277]\n",
      "[559, 249, 642, 277]\n",
      "[812, 249, 970, 277]\n",
      "[1041, 249, 1079, 277]\n",
      "[1149, 249, 1231, 277]\n",
      "[1292, 249, 1374, 277]\n",
      "[57, 291, 126, 318]\n",
      "[258, 291, 325, 318]\n",
      "[559, 291, 642, 318]\n",
      "[812, 291, 970, 318]\n",
      "[1041, 291, 1079, 318]\n",
      "[1149, 291, 1231, 318]\n",
      "[1292, 291, 1374, 318]\n"
     ]
    }
   ],
   "source": [
    "for i in range(len(horiz_lines)):\n",
    "    for j in range(len(vert_lines)):\n",
    "        resultant = intersection(horiz_boxes[horiz_lines[i]],vert_boxes[vert_lines[ordered_boxes[j]]])\n",
    "\n",
    "        for b in range (len(boxes)):\n",
    "            the_box = [boxes[b][0][0],boxes[b][0][1],boxes[b][2][0],boxes[b][2][1]]\n",
    "            if(iou(resultant , the_box)>0.1):\n",
    "                out_array[i][j] = texts[b]\n",
    "        print(resultant)"
   ]
  },
  {
   "cell_type": "code",
   "execution_count": 40,
   "metadata": {},
   "outputs": [
    {
     "data": {
      "text/plain": [
       "[['DATE', 'TRANSACTIONID', 'MODE', 'ACCOUNTNO', 'STATUS', 'AMOUNT', 'BALANCE'],\n",
       " ['7/27/2023',\n",
       "  '1005',\n",
       "  'UPI(Transfer from ARYAN)',\n",
       "  '7940418579',\n",
       "  'Cr',\n",
       "  '80000',\n",
       "  '80000'],\n",
       " ['7/27/2023',\n",
       "  '1006',\n",
       "  'UPI(Transfer to ABHISHEK)',\n",
       "  '2497653801',\n",
       "  'Dr',\n",
       "  '33000',\n",
       "  '47000'],\n",
       " ['7/27/2023',\n",
       "  '1007',\n",
       "  'UPI(Transfer to TEJAS)',\n",
       "  '2173014683',\n",
       "  'Dr',\n",
       "  '5000',\n",
       "  '42000'],\n",
       " ['7/27/2023',\n",
       "  '1008',\n",
       "  'UPI(Transfer to RAHUL)',\n",
       "  '3665537576',\n",
       "  'Dr',\n",
       "  '16000',\n",
       "  '26000'],\n",
       " ['7/27/2023',\n",
       "  '1009',\n",
       "  'UPI(Transfer to RAJKUMAR)',\n",
       "  '2842027745',\n",
       "  'Dr',\n",
       "  '6700',\n",
       "  '19300'],\n",
       " ['7/27/2023',\n",
       "  '1010',\n",
       "  'UPI(Transfer to MUKUND)',\n",
       "  '7542630333',\n",
       "  'Dr',\n",
       "  '5300',\n",
       "  '14000'],\n",
       " ['7/27/2023',\n",
       "  '1011',\n",
       "  'UPI(Transfer to ANIL)',\n",
       "  '1734168306',\n",
       "  'Dr',\n",
       "  '14000',\n",
       "  '0']]"
      ]
     },
     "execution_count": 40,
     "metadata": {},
     "output_type": "execute_result"
    }
   ],
   "source": [
    "out_array"
   ]
  },
  {
   "cell_type": "code",
   "execution_count": 41,
   "metadata": {},
   "outputs": [],
   "source": [
    "import pandas as pd"
   ]
  },
  {
   "cell_type": "code",
   "execution_count": 42,
   "metadata": {},
   "outputs": [],
   "source": [
    "pd.DataFrame(out_array).to_csv('sample.csv')"
   ]
  },
  {
   "cell_type": "code",
   "execution_count": null,
   "metadata": {},
   "outputs": [],
   "source": []
  }
 ],
 "metadata": {
  "kernelspec": {
   "display_name": "Python 3",
   "language": "python",
   "name": "python3"
  },
  "language_info": {
   "codemirror_mode": {
    "name": "ipython",
    "version": 3
   },
   "file_extension": ".py",
   "mimetype": "text/x-python",
   "name": "python",
   "nbconvert_exporter": "python",
   "pygments_lexer": "ipython3",
   "version": "3.10.11"
  },
  "orig_nbformat": 4
 },
 "nbformat": 4,
 "nbformat_minor": 2
}
